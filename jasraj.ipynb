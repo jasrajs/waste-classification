{
  "nbformat": 4,
  "nbformat_minor": 0,
  "metadata": {
    "colab": {
      "provenance": [],
      "gpuType": "T4",
      "mount_file_id": "1WKEMN-AOqnPsyTrBRtgN7fmhEoWF2uFo",
      "authorship_tag": "ABX9TyNz+LuJnZHenw9mGg8EMcRi",
      "include_colab_link": true
    },
    "kernelspec": {
      "name": "python3",
      "display_name": "Python 3"
    },
    "language_info": {
      "name": "python"
    },
    "accelerator": "GPU",
    "gpuClass": "standard"
  },
  "cells": [
    {
      "cell_type": "markdown",
      "metadata": {
        "id": "view-in-github",
        "colab_type": "text"
      },
      "source": [
        "<a href=\"https://colab.research.google.com/github/jasrajs/waste-classification/blob/main/jasraj.ipynb\" target=\"_parent\"><img src=\"https://colab.research.google.com/assets/colab-badge.svg\" alt=\"Open In Colab\"/></a>"
      ]
    },
    {
      "cell_type": "markdown",
      "source": [
        "# New Section"
      ],
      "metadata": {
        "id": "9CzTM4p3F62y"
      }
    },
    {
      "cell_type": "markdown",
      "source": [
        "# New Section"
      ],
      "metadata": {
        "id": "PklJg8gbEE5U"
      }
    },
    {
      "cell_type": "code",
      "source": [],
      "metadata": {
        "id": "xLd2UyJGMKvR"
      },
      "execution_count": null,
      "outputs": []
    },
    {
      "cell_type": "code",
      "source": [
        "from google.colab import drive\n",
        "drive.mount('/content/drive')"
      ],
      "metadata": {
        "colab": {
          "base_uri": "https://localhost:8080/"
        },
        "id": "_AbIV8EhMOyc",
        "outputId": "c06ba24c-01e2-4193-f3df-f64e63b76aeb"
      },
      "execution_count": 8,
      "outputs": [
        {
          "output_type": "stream",
          "name": "stdout",
          "text": [
            "Drive already mounted at /content/drive; to attempt to forcibly remount, call drive.mount(\"/content/drive\", force_remount=True).\n"
          ]
        }
      ]
    },
    {
      "cell_type": "code",
      "source": [
        "%cd \"/content/drive/MyDrive/Garbage classification\""
      ],
      "metadata": {
        "colab": {
          "base_uri": "https://localhost:8080/"
        },
        "id": "D8mBiq65s7w2",
        "outputId": "6dacb184-2d94-48dc-8791-096ecbc0963f"
      },
      "execution_count": 9,
      "outputs": [
        {
          "output_type": "stream",
          "name": "stdout",
          "text": [
            "/content/drive/MyDrive/Garbage classification\n"
          ]
        }
      ]
    },
    {
      "cell_type": "code",
      "source": [
        "import tensorflow as tf\n",
        "import numpy as np\n",
        "import matplotlib.pyplot as plt"
      ],
      "metadata": {
        "id": "Ps8AxAH-tRcL"
      },
      "execution_count": 10,
      "outputs": []
    },
    {
      "cell_type": "code",
      "source": [
        "from tensorflow.keras.preprocessing.image import ImageDataGenerator\n",
        "\n",
        "gen_train = ImageDataGenerator(rescale = 1/255, shear_range = 0.2, zoom_range = 0.2, \n",
        "                               brightness_range = (0.1, 0.5), horizontal_flip=True)\n",
        "\n",
        "train_data = gen_train.flow_from_directory(\"/content/drive/MyDrive/Garbage classification\",\n",
        "                                           target_size = (224, 224), batch_size = 32, class_mode=\"categorical\")"
      ],
      "metadata": {
        "colab": {
          "base_uri": "https://localhost:8080/"
        },
        "id": "x_k5dQ9CtUED",
        "outputId": "3322447c-deb2-4289-fc0a-eba23c9862b5"
      },
      "execution_count": 11,
      "outputs": [
        {
          "output_type": "stream",
          "name": "stdout",
          "text": [
            "Found 2527 images belonging to 6 classes.\n"
          ]
        }
      ]
    },
    {
      "cell_type": "code",
      "source": [
        "from tensorflow.keras.applications.vgg16 import VGG16\n",
        "vgg16 = VGG16(input_shape = (224, 224, 3), weights = \"imagenet\", include_top = False)"
      ],
      "metadata": {
        "id": "Iv3pW7NktlYb"
      },
      "execution_count": 12,
      "outputs": []
    },
    {
      "cell_type": "code",
      "source": [
        "for layer in vgg16.layers:\n",
        "  layer.trainable = False"
      ],
      "metadata": {
        "id": "VxmxIs1Uty0V"
      },
      "execution_count": 13,
      "outputs": []
    },
    {
      "cell_type": "code",
      "source": [
        "from tensorflow.keras import layers\n",
        "\n",
        "x = layers.Flatten()(vgg16.output)"
      ],
      "metadata": {
        "id": "hfutbNdmt23L"
      },
      "execution_count": 14,
      "outputs": []
    },
    {
      "cell_type": "code",
      "source": [
        "prediction = layers.Dense(units = 6, activation=\"softmax\")(x)\n",
        "\n",
        "# creating a model object\n",
        "\n",
        "model = tf.keras.models.Model(inputs = vgg16.input, outputs=prediction)\n",
        "model.summary()"
      ],
      "metadata": {
        "colab": {
          "base_uri": "https://localhost:8080/"
        },
        "id": "fr5DCSFzt7mD",
        "outputId": "783f1f8e-1829-48d2-e5eb-6aa0274b749f"
      },
      "execution_count": 15,
      "outputs": [
        {
          "output_type": "stream",
          "name": "stdout",
          "text": [
            "Model: \"model\"\n",
            "_________________________________________________________________\n",
            " Layer (type)                Output Shape              Param #   \n",
            "=================================================================\n",
            " input_2 (InputLayer)        [(None, 224, 224, 3)]     0         \n",
            "                                                                 \n",
            " block1_conv1 (Conv2D)       (None, 224, 224, 64)      1792      \n",
            "                                                                 \n",
            " block1_conv2 (Conv2D)       (None, 224, 224, 64)      36928     \n",
            "                                                                 \n",
            " block1_pool (MaxPooling2D)  (None, 112, 112, 64)      0         \n",
            "                                                                 \n",
            " block2_conv1 (Conv2D)       (None, 112, 112, 128)     73856     \n",
            "                                                                 \n",
            " block2_conv2 (Conv2D)       (None, 112, 112, 128)     147584    \n",
            "                                                                 \n",
            " block2_pool (MaxPooling2D)  (None, 56, 56, 128)       0         \n",
            "                                                                 \n",
            " block3_conv1 (Conv2D)       (None, 56, 56, 256)       295168    \n",
            "                                                                 \n",
            " block3_conv2 (Conv2D)       (None, 56, 56, 256)       590080    \n",
            "                                                                 \n",
            " block3_conv3 (Conv2D)       (None, 56, 56, 256)       590080    \n",
            "                                                                 \n",
            " block3_pool (MaxPooling2D)  (None, 28, 28, 256)       0         \n",
            "                                                                 \n",
            " block4_conv1 (Conv2D)       (None, 28, 28, 512)       1180160   \n",
            "                                                                 \n",
            " block4_conv2 (Conv2D)       (None, 28, 28, 512)       2359808   \n",
            "                                                                 \n",
            " block4_conv3 (Conv2D)       (None, 28, 28, 512)       2359808   \n",
            "                                                                 \n",
            " block4_pool (MaxPooling2D)  (None, 14, 14, 512)       0         \n",
            "                                                                 \n",
            " block5_conv1 (Conv2D)       (None, 14, 14, 512)       2359808   \n",
            "                                                                 \n",
            " block5_conv2 (Conv2D)       (None, 14, 14, 512)       2359808   \n",
            "                                                                 \n",
            " block5_conv3 (Conv2D)       (None, 14, 14, 512)       2359808   \n",
            "                                                                 \n",
            " block5_pool (MaxPooling2D)  (None, 7, 7, 512)         0         \n",
            "                                                                 \n",
            " flatten_1 (Flatten)         (None, 25088)             0         \n",
            "                                                                 \n",
            " dense (Dense)               (None, 6)                 150534    \n",
            "                                                                 \n",
            "=================================================================\n",
            "Total params: 14,865,222\n",
            "Trainable params: 150,534\n",
            "Non-trainable params: 14,714,688\n",
            "_________________________________________________________________\n"
          ]
        }
      ]
    },
    {
      "cell_type": "code",
      "source": [
        "model.compile(optimizer=\"adam\", loss=\"categorical_crossentropy\", metrics =[\"accuracy\"])\n",
        "\n",
        "result = model.fit_generator(train_data, epochs = 28, steps_per_epoch=len(train_data))"
      ],
      "metadata": {
        "colab": {
          "base_uri": "https://localhost:8080/"
        },
        "id": "f7Wfc-87uIA2",
        "outputId": "c541adee-1320-47de-8fa0-0fcbb790e504"
      },
      "execution_count": 16,
      "outputs": [
        {
          "metadata": {
            "tags": null
          },
          "name": "stderr",
          "output_type": "stream",
          "text": [
            "<ipython-input-16-f2c6a01324d2>:3: UserWarning: `Model.fit_generator` is deprecated and will be removed in a future version. Please use `Model.fit`, which supports generators.\n",
            "  result = model.fit_generator(train_data, epochs = 28, steps_per_epoch=len(train_data))\n"
          ]
        },
        {
          "output_type": "stream",
          "name": "stdout",
          "text": [
            "Epoch 1/28\n",
            "79/79 [==============================] - 582s 7s/step - loss: 1.6278 - accuracy: 0.3870\n",
            "Epoch 2/28\n",
            "79/79 [==============================] - 43s 543ms/step - loss: 1.2209 - accuracy: 0.5362\n",
            "Epoch 3/28\n",
            "79/79 [==============================] - 43s 541ms/step - loss: 1.1422 - accuracy: 0.5524\n",
            "Epoch 4/28\n",
            "79/79 [==============================] - 42s 528ms/step - loss: 1.1020 - accuracy: 0.5809\n",
            "Epoch 5/28\n",
            "79/79 [==============================] - 42s 530ms/step - loss: 1.0154 - accuracy: 0.6090\n",
            "Epoch 6/28\n",
            "79/79 [==============================] - 42s 530ms/step - loss: 1.0012 - accuracy: 0.6138\n",
            "Epoch 7/28\n",
            "79/79 [==============================] - 42s 528ms/step - loss: 0.9656 - accuracy: 0.6280\n",
            "Epoch 8/28\n",
            "79/79 [==============================] - 42s 526ms/step - loss: 0.8896 - accuracy: 0.6712\n",
            "Epoch 9/28\n",
            "79/79 [==============================] - 42s 533ms/step - loss: 0.9048 - accuracy: 0.6565\n",
            "Epoch 10/28\n",
            "79/79 [==============================] - 42s 533ms/step - loss: 0.8552 - accuracy: 0.6826\n",
            "Epoch 11/28\n",
            "79/79 [==============================] - 42s 529ms/step - loss: 0.8417 - accuracy: 0.6803\n",
            "Epoch 12/28\n",
            "79/79 [==============================] - 42s 529ms/step - loss: 0.8270 - accuracy: 0.6890\n",
            "Epoch 13/28\n",
            "79/79 [==============================] - 43s 541ms/step - loss: 0.8229 - accuracy: 0.6913\n",
            "Epoch 14/28\n",
            "79/79 [==============================] - 43s 549ms/step - loss: 0.8402 - accuracy: 0.6882\n",
            "Epoch 15/28\n",
            "79/79 [==============================] - 42s 533ms/step - loss: 0.7582 - accuracy: 0.7167\n",
            "Epoch 16/28\n",
            "79/79 [==============================] - 42s 535ms/step - loss: 0.7750 - accuracy: 0.7178\n",
            "Epoch 17/28\n",
            "79/79 [==============================] - 43s 545ms/step - loss: 0.7673 - accuracy: 0.7151\n",
            "Epoch 18/28\n",
            "79/79 [==============================] - 43s 539ms/step - loss: 0.7168 - accuracy: 0.7289\n",
            "Epoch 19/28\n",
            "79/79 [==============================] - 43s 547ms/step - loss: 0.7175 - accuracy: 0.7368\n",
            "Epoch 20/28\n",
            "79/79 [==============================] - 43s 539ms/step - loss: 0.6511 - accuracy: 0.7586\n",
            "Epoch 21/28\n",
            "79/79 [==============================] - 42s 535ms/step - loss: 0.6577 - accuracy: 0.7499\n",
            "Epoch 22/28\n",
            "79/79 [==============================] - 43s 549ms/step - loss: 0.6952 - accuracy: 0.7349\n",
            "Epoch 23/28\n",
            "79/79 [==============================] - 42s 536ms/step - loss: 0.6855 - accuracy: 0.7495\n",
            "Epoch 24/28\n",
            "79/79 [==============================] - 43s 543ms/step - loss: 0.6484 - accuracy: 0.7693\n",
            "Epoch 25/28\n",
            "79/79 [==============================] - 42s 534ms/step - loss: 0.6629 - accuracy: 0.7459\n",
            "Epoch 26/28\n",
            "79/79 [==============================] - 43s 549ms/step - loss: 0.5936 - accuracy: 0.7831\n",
            "Epoch 27/28\n",
            "79/79 [==============================] - 43s 535ms/step - loss: 0.6000 - accuracy: 0.7752\n",
            "Epoch 28/28\n",
            "79/79 [==============================] - 43s 542ms/step - loss: 0.6263 - accuracy: 0.7669\n"
          ]
        }
      ]
    },
    {
      "cell_type": "code",
      "source": [
        "from tensorflow.keras.preprocessing import image\n",
        "output_class = [\"cardboard\", \"glass\", \"trash\", \"metal\", \"paper\", \"plastic\"]\n",
        "def waste_prediction(new_image):\n",
        "  test_image = image.load_img(new_image, target_size = (224,224))\n",
        "  plt.axis(\"off\")\n",
        "  plt.imshow(test_image)\n",
        "  plt.show()\n",
        " \n",
        "  test_image = image.img_to_array(test_image) / 255\n",
        "  test_image = np.expand_dims(test_image, axis=0)\n",
        "\n",
        "  predicted_array = model.predict(test_image)\n",
        "  predicted_value = output_class[np.argmax(predicted_array)]\n",
        "  predicted_accuracy = round(np.max(predicted_array) * 100, 2)\n",
        "\n",
        "  print(\"Your waste material is \", predicted_value, \" with \", predicted_accuracy, \" % accuracy\")"
      ],
      "metadata": {
        "id": "-LRApN-EFYC7"
      },
      "execution_count": 17,
      "outputs": []
    },
    {
      "cell_type": "code",
      "source": [
        "waste_prediction(\"/content/drive/MyDrive/Garbage classification/glass/glass103.jpg\")"
      ],
      "metadata": {
        "id": "Oi286mwWF3xf"
      },
      "execution_count": null,
      "outputs": []
    },
    {
      "cell_type": "code",
      "source": [
        "plt.title(\"Accuracy\")\n",
        "plt.plot(result.history[\"accuracy\"])\n",
        "plt.show()"
      ],
      "metadata": {
        "id": "U4MWYpLAJbCD"
      },
      "execution_count": null,
      "outputs": []
    },
    {
      "cell_type": "code",
      "source": [
        "plt.title(\"Loss\")\n",
        "plt.plot(result.history[\"loss\"])\n",
        "plt.show()"
      ],
      "metadata": {
        "id": "A-fFh18xJprJ"
      },
      "execution_count": null,
      "outputs": []
    },
    {
      "cell_type": "code",
      "source": [
        "model.save(\"classifyWaste.h5\")"
      ],
      "metadata": {
        "id": "z893AWQ3KcIF"
      },
      "execution_count": 28,
      "outputs": []
    }
  ]
}